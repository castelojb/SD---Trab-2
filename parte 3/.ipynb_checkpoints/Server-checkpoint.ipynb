{
 "cells": [
  {
   "cell_type": "code",
   "execution_count": 1,
   "id": "accurate-tribute",
   "metadata": {},
   "outputs": [],
   "source": [
    "from concurrent import futures\n",
    "import time\n",
    "\n",
    "import grpc\n",
    "\n",
    "from Protobuffer import messages_pb2"
   ]
  },
  {
   "cell_type": "code",
   "execution_count": 2,
   "id": "another-behalf",
   "metadata": {},
   "outputs": [
    {
     "ename": "AttributeError",
     "evalue": "module 'Protobuffer.messages_pb2' has no attribute 'ExampleServiceServicer'",
     "output_type": "error",
     "traceback": [
      "\u001b[0;31m---------------------------------------------------------------------------\u001b[0m",
      "\u001b[0;31mAttributeError\u001b[0m                            Traceback (most recent call last)",
      "\u001b[0;32m<ipython-input-2-5c2469b78a16>\u001b[0m in \u001b[0;36m<module>\u001b[0;34m\u001b[0m\n\u001b[1;32m      1\u001b[0m \u001b[0;31m# Inherit from example_pb2_grpc.ExampleServiceServicer\u001b[0m\u001b[0;34m\u001b[0m\u001b[0;34m\u001b[0m\u001b[0;34m\u001b[0m\u001b[0m\n\u001b[1;32m      2\u001b[0m \u001b[0;31m# ExampleServiceServicer is the server-side artifact.\u001b[0m\u001b[0;34m\u001b[0m\u001b[0;34m\u001b[0m\u001b[0;34m\u001b[0m\u001b[0m\n\u001b[0;32m----> 3\u001b[0;31m \u001b[0;32mclass\u001b[0m \u001b[0mExampleServiceServicer\u001b[0m\u001b[0;34m(\u001b[0m\u001b[0mmessages_pb2\u001b[0m\u001b[0;34m.\u001b[0m\u001b[0mExampleServiceServicer\u001b[0m\u001b[0;34m)\u001b[0m\u001b[0;34m:\u001b[0m\u001b[0;34m\u001b[0m\u001b[0;34m\u001b[0m\u001b[0m\n\u001b[0m\u001b[1;32m      4\u001b[0m     \u001b[0;32mdef\u001b[0m \u001b[0mGetId\u001b[0m\u001b[0;34m(\u001b[0m\u001b[0mself\u001b[0m\u001b[0;34m,\u001b[0m \u001b[0mrequest\u001b[0m\u001b[0;34m,\u001b[0m \u001b[0mcontext\u001b[0m\u001b[0;34m)\u001b[0m\u001b[0;34m:\u001b[0m\u001b[0;34m\u001b[0m\u001b[0;34m\u001b[0m\u001b[0m\n\u001b[1;32m      5\u001b[0m         \"\"\"Gets a user.\n",
      "\u001b[0;31mAttributeError\u001b[0m: module 'Protobuffer.messages_pb2' has no attribute 'ExampleServiceServicer'"
     ]
    }
   ],
   "source": [
    "# Inherit from example_pb2_grpc.ExampleServiceServicer\n",
    "# ExampleServiceServicer is the server-side artifact.\n",
    "class ExampleServiceServicer(messages_pb2.ExampleServiceServicer): \n",
    "    def GetId(self, request, context):\n",
    "        \"\"\"Gets a user.\n",
    "           gRPC calls this method when clients call the GetUser rpc (method).\n",
    "        Arguments:\n",
    "            request (GetUserRequest): The incoming request.\n",
    "            context: The gRPC connection context.\n",
    "        \n",
    "        Returns:\n",
    "            user (User): A user.\n",
    "        \"\"\"\n",
    "        name = request.type\n",
    "        user = messages_pb2.Identification(\n",
    "            type=name,\n",
    "            ip='0.0.0.0',\n",
    "            port=8080\n",
    "        )\n",
    "\n",
    "        return user"
   ]
  },
  {
   "cell_type": "code",
   "execution_count": null,
   "id": "instructional-belgium",
   "metadata": {},
   "outputs": [],
   "source": [
    "if __name__ == '__main__':\n",
    "    # Run a gRPC server with one thread.\n",
    "    server = grpc.server(futures.ThreadPoolExecutor(max_workers=1))\n",
    "    # Adds the servicer class to the server.\n",
    "    example_pb2_grpc.add_ExampleServiceServicer_to_server(ExampleServiceServicer(), server)\n",
    "    server.add_insecure_port('0.0.0.0:8080')\n",
    "    server.start()\n",
    "    print('API server started. Listening at 0.0.0.0:8080.')\n",
    "    while True:\n",
    "        time.sleep(60)"
   ]
  },
  {
   "cell_type": "code",
   "execution_count": null,
   "id": "interior-convenience",
   "metadata": {},
   "outputs": [],
   "source": []
  }
 ],
 "metadata": {
  "kernelspec": {
   "display_name": "Python 3",
   "language": "python",
   "name": "python3"
  },
  "language_info": {
   "codemirror_mode": {
    "name": "ipython",
    "version": 3
   },
   "file_extension": ".py",
   "mimetype": "text/x-python",
   "name": "python",
   "nbconvert_exporter": "python",
   "pygments_lexer": "ipython3",
   "version": "3.8.7"
  }
 },
 "nbformat": 4,
 "nbformat_minor": 5
}

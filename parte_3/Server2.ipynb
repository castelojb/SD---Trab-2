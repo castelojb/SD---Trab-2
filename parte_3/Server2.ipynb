{
 "cells": [
  {
   "cell_type": "code",
   "execution_count": 3,
   "id": "seeing-asbestos",
   "metadata": {},
   "outputs": [],
   "source": [
    "from concurrent import futures\n",
    "import time\n",
    "\n",
    "import grpc\n",
    "\n",
    "from Protobuffer import messages_pb2, messages_pb2_grpc"
   ]
  },
  {
   "cell_type": "code",
   "execution_count": 4,
   "id": "chicken-bread",
   "metadata": {},
   "outputs": [],
   "source": [
    "# Inherit from example_pb2_grpc.ExampleServiceServicer\n",
    "# ExampleServiceServicer is the server-side artifact.\n",
    "class ExampleServiceServicer(messages_pb2_grpc.ExampleServiceServicer): \n",
    "    def GetId(self, request, context):\n",
    "        \"\"\"Gets a user.\n",
    "           gRPC calls this method when clients call the GetUser rpc (method).\n",
    "        Arguments:\n",
    "            request (GetUserRequest): The incoming request.\n",
    "            context: The gRPC connection context.\n",
    "        \n",
    "        Returns:\n",
    "            user (User): A user.\n",
    "        \"\"\"\n",
    "        name = request.type\n",
    "        user = messages_pb2.Identification(\n",
    "            type=name,\n",
    "            ip='0.0.0.0',\n",
    "            port=8080\n",
    "        )\n",
    "\n",
    "        return user"
   ]
  },
  {
   "cell_type": "code",
   "execution_count": 5,
   "id": "joined-disease",
   "metadata": {},
   "outputs": [
    {
     "name": "stdout",
     "output_type": "stream",
     "text": [
      "API server started. Listening at 0.0.0.0:8080.\n"
     ]
    },
    {
     "ename": "KeyboardInterrupt",
     "evalue": "",
     "output_type": "error",
     "traceback": [
      "\u001b[0;31m---------------------------------------------------------------------------\u001b[0m",
      "\u001b[0;31mKeyboardInterrupt\u001b[0m                         Traceback (most recent call last)",
      "\u001b[0;32m<ipython-input-5-920a77127492>\u001b[0m in \u001b[0;36m<module>\u001b[0;34m\u001b[0m\n\u001b[1;32m      8\u001b[0m     \u001b[0mprint\u001b[0m\u001b[0;34m(\u001b[0m\u001b[0;34m'API server started. Listening at 0.0.0.0:8080.'\u001b[0m\u001b[0;34m)\u001b[0m\u001b[0;34m\u001b[0m\u001b[0;34m\u001b[0m\u001b[0m\n\u001b[1;32m      9\u001b[0m     \u001b[0;32mwhile\u001b[0m \u001b[0;32mTrue\u001b[0m\u001b[0;34m:\u001b[0m\u001b[0;34m\u001b[0m\u001b[0;34m\u001b[0m\u001b[0m\n\u001b[0;32m---> 10\u001b[0;31m         \u001b[0mtime\u001b[0m\u001b[0;34m.\u001b[0m\u001b[0msleep\u001b[0m\u001b[0;34m(\u001b[0m\u001b[0;36m60\u001b[0m\u001b[0;34m)\u001b[0m\u001b[0;34m\u001b[0m\u001b[0;34m\u001b[0m\u001b[0m\n\u001b[0m",
      "\u001b[0;31mKeyboardInterrupt\u001b[0m: "
     ]
    }
   ],
   "source": [
    "if __name__ == '__main__':\n",
    "    # Run a gRPC server with one thread.\n",
    "    server = grpc.server(futures.ThreadPoolExecutor(max_workers=1))\n",
    "    # Adds the servicer class to the server.\n",
    "    messages_pb2_grpc.add_ExampleServiceServicer_to_server(ExampleServiceServicer(), server)\n",
    "    server.add_insecure_port('0.0.0.0:8080')\n",
    "    server.start()\n",
    "    print('API server started. Listening at 0.0.0.0:8080.')\n",
    "    while True:\n",
    "        time.sleep(60)"
   ]
  },
  {
   "cell_type": "code",
   "execution_count": null,
   "id": "handled-chest",
   "metadata": {},
   "outputs": [],
   "source": []
  }
 ],
 "metadata": {
  "kernelspec": {
   "display_name": "Python 3",
   "language": "python",
   "name": "python3"
  },
  "language_info": {
   "codemirror_mode": {
    "name": "ipython",
    "version": 3
   },
   "file_extension": ".py",
   "mimetype": "text/x-python",
   "name": "python",
   "nbconvert_exporter": "python",
   "pygments_lexer": "ipython3",
   "version": "3.8.7"
  }
 },
 "nbformat": 4,
 "nbformat_minor": 5
}

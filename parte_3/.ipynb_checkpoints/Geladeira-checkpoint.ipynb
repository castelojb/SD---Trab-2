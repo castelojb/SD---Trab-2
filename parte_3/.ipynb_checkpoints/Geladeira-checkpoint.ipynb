{
 "cells": [
  {
   "cell_type": "code",
   "execution_count": 7,
   "id": "seeing-asbestos",
   "metadata": {},
   "outputs": [],
   "source": [
    "from concurrent import futures\n",
    "import time\n",
    "import grpc\n",
    "from Protobuffer import messages_pb2, messages_pb2_grpc\n",
    "from threading import Thread"
   ]
  },
  {
   "cell_type": "code",
   "execution_count": 2,
   "id": "institutional-contest",
   "metadata": {},
   "outputs": [],
   "source": [
    "port=8080"
   ]
  },
  {
   "cell_type": "code",
   "execution_count": 3,
   "id": "infrared-childhood",
   "metadata": {},
   "outputs": [],
   "source": [
    "url = '4.tcp.ngrok.io:17859'"
   ]
  },
  {
   "cell_type": "code",
   "execution_count": 4,
   "id": "chicken-bread",
   "metadata": {},
   "outputs": [],
   "source": [
    "# Inherit from example_pb2_grpc.ExampleServiceServicer\n",
    "# ExampleServiceServicer is the server-side artifact.\n",
    "class Sensor:\n",
    "    \n",
    "    def __init__(self, value, ip, port, name):\n",
    "        \n",
    "        self.value = value\n",
    "        self.ip = ip\n",
    "        self.port = port\n",
    "        self.name = name\n",
    "        \n",
    "        self.MakeConnection(url)\n",
    "        \n",
    "        self.IdentificateClient()\n",
    "        \n",
    "        thread = Thread(target = self.SendStatus, args = (10))\n",
    "        \n",
    "        thread.start()\n",
    "    \n",
    "    def MakeConnection(self, url):\n",
    "        \n",
    "        self.channel = grpc.insecure_channel(url)\n",
    "        self.stub = messages_pb2_grpc.GatewayServiceStub(self.channel)\n",
    "        \n",
    "    def SendStatus(self, time_interval):\n",
    "        \n",
    "        while True:\n",
    "            \n",
    "            request = messages_pb2.Status(\n",
    "                payload=self.value,\n",
    "                id=self._id,\n",
    "                \n",
    "            )\n",
    "            \n",
    "            time.sleep(time_interval)\n",
    "        \n",
    "    \n",
    "    def IdentificateClient(self):\n",
    "        \n",
    "        request = messages_pb2.Identification(\n",
    "            name=self.name,\n",
    "            ip=self.ip,\n",
    "            port=self.port\n",
    "            \n",
    "        )\n",
    "        \n",
    "        response = self.stub.Identificate(request)\n",
    "        \n",
    "        self._id = response.value\n",
    "        \n",
    "    \n",
    "    def Identificate(self, request, context):\n",
    "        \n",
    "        out = messages_pb2.Identification(\n",
    "            name=self.name,\n",
    "            ip=self.ip,\n",
    "            port=self.port\n",
    "        \n",
    "        )\n",
    "        \n",
    "        return out\n",
    "\n",
    "    \n",
    "    def ReceiveUpdate(self, request, context):\n",
    "        \n",
    "        self.value = request.payload\n",
    "        \n",
    "        \n",
    "        \n",
    "        return messages_pb2.google_dot_protobuf_dot_empty__pb2.Empty()\n",
    "        \n",
    "    \n",
    "    def GetValor(self, request, context):\n",
    "        \n",
    "        out = messages_pb2.Status(\n",
    "            payload=self.value,\n",
    "            id='sei nau',\n",
    "        )\n",
    "        \n",
    "        return out\n",
    "        \n",
    "        \n",
    "    \n",
    "class Geladeira(Sensor):\n",
    "    \n",
    "    def __init__(self, value, ip, port):\n",
    "        \n",
    "        super().__init__(value, ip, port, 'geladeira')\n",
    "    "
   ]
  },
  {
   "cell_type": "code",
   "execution_count": 5,
   "id": "native-february",
   "metadata": {},
   "outputs": [
    {
     "name": "stdout",
     "output_type": "stream",
     "text": [
      "value: \"5515761855e2f\"\n",
      "\n"
     ]
    }
   ],
   "source": [
    "geladeira = Geladeira(10, '10,10.10', 8080)"
   ]
  },
  {
   "cell_type": "code",
   "execution_count": 6,
   "id": "prescribed-lincoln",
   "metadata": {},
   "outputs": [
    {
     "name": "stdout",
     "output_type": "stream",
     "text": [
      "API server started. Listening at 0.0.0.0:8080.\n"
     ]
    },
    {
     "ename": "KeyboardInterrupt",
     "evalue": "",
     "output_type": "error",
     "traceback": [
      "\u001b[0;31m---------------------------------------------------------------------------\u001b[0m",
      "\u001b[0;31mKeyboardInterrupt\u001b[0m                         Traceback (most recent call last)",
      "\u001b[0;32m<ipython-input-6-64b5218e86a2>\u001b[0m in \u001b[0;36m<module>\u001b[0;34m\u001b[0m\n\u001b[1;32m     13\u001b[0m \u001b[0;34m\u001b[0m\u001b[0m\n\u001b[1;32m     14\u001b[0m \u001b[0;32mwhile\u001b[0m \u001b[0;32mTrue\u001b[0m\u001b[0;34m:\u001b[0m\u001b[0;34m\u001b[0m\u001b[0;34m\u001b[0m\u001b[0m\n\u001b[0;32m---> 15\u001b[0;31m     \u001b[0mtime\u001b[0m\u001b[0;34m.\u001b[0m\u001b[0msleep\u001b[0m\u001b[0;34m(\u001b[0m\u001b[0;36m60\u001b[0m\u001b[0;34m)\u001b[0m\u001b[0;34m\u001b[0m\u001b[0;34m\u001b[0m\u001b[0m\n\u001b[0m",
      "\u001b[0;31mKeyboardInterrupt\u001b[0m: "
     ]
    }
   ],
   "source": [
    "# Run a gRPC server with one thread.\n",
    "server = grpc.server(futures.ThreadPoolExecutor(max_workers=1))\n",
    "\n",
    "# Adds the servicer class to the server.\n",
    "messages_pb2_grpc.add_EquipmentServiceServicer_to_server(geladeira, server)\n",
    "\n",
    "server.add_insecure_port('0.0.0.0:8080')\n",
    "\n",
    "server.start()\n",
    "\n",
    "\n",
    "print('API server started. Listening at 0.0.0.0:8080.')\n",
    "\n",
    "while True:\n",
    "    time.sleep(60)"
   ]
  },
  {
   "cell_type": "code",
   "execution_count": null,
   "id": "handled-chest",
   "metadata": {},
   "outputs": [],
   "source": []
  }
 ],
 "metadata": {
  "kernelspec": {
   "display_name": "Python 3",
   "language": "python",
   "name": "python3"
  },
  "language_info": {
   "codemirror_mode": {
    "name": "ipython",
    "version": 3
   },
   "file_extension": ".py",
   "mimetype": "text/x-python",
   "name": "python",
   "nbconvert_exporter": "python",
   "pygments_lexer": "ipython3",
   "version": "3.8.7"
  }
 },
 "nbformat": 4,
 "nbformat_minor": 5
}

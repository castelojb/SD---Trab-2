{
 "cells": [
  {
   "cell_type": "code",
   "execution_count": 1,
   "id": "quantitative-nelson",
   "metadata": {},
   "outputs": [],
   "source": [
    "import grpc\n",
    "\n",
    "from Protobuffer import messages_pb2, messages_pb2_grpc"
   ]
  },
  {
   "cell_type": "code",
   "execution_count": 2,
   "id": "apparent-wagner",
   "metadata": {},
   "outputs": [],
   "source": [
    "SERVER_ADDRESS = '0.0.0.0'\n",
    "PORT = 8080"
   ]
  },
  {
   "cell_type": "code",
   "execution_count": 3,
   "id": "initial-storm",
   "metadata": {},
   "outputs": [],
   "source": [
    "class ExampleServiceClient(object):\n",
    "    def __init__(self):\n",
    "        \"\"\"Initializer. \n",
    "           Creates a gRPC channel for connecting to the server.\n",
    "           Adds the channel to the generated client stub.\n",
    "        Arguments:\n",
    "            None.\n",
    "        \n",
    "        Returns:\n",
    "            None.\n",
    "        \"\"\"\n",
    "        self.channel = grpc.insecure_channel(f'{SERVER_ADDRESS}:{PORT}')\n",
    "        self.stub = messages_pb2_grpc.ExampleServiceStub(self.channel)\n",
    "    \n",
    "    def get_id(self, name):\n",
    "        \"\"\"Gets a user.\n",
    "        Arguments:\n",
    "            name: The resource name of a user.\n",
    "        \n",
    "        Returns:\n",
    "            None; outputs to the terminal.\n",
    "        \"\"\"\n",
    "        request = messages_pb2.Identification(\n",
    "            type=name\n",
    "        )\n",
    "\n",
    "        try:\n",
    "            response = self.stub.GetId(request)\n",
    "            print('User fetched.')\n",
    "            print(response)\n",
    "        except grpc.RpcError as err:\n",
    "            print(err.details()) #pylint: disable=no-member\n",
    "            print('{}, {}'.format(err.code().name, err.code().value)) #pylint: disable=no-member"
   ]
  },
  {
   "cell_type": "code",
   "execution_count": 4,
   "id": "sufficient-probe",
   "metadata": {},
   "outputs": [],
   "source": [
    "ex = ExampleServiceClient()"
   ]
  },
  {
   "cell_type": "code",
   "execution_count": 5,
   "id": "solved-allowance",
   "metadata": {},
   "outputs": [
    {
     "name": "stdout",
     "output_type": "stream",
     "text": [
      "User fetched.\n",
      "type: \"aa\"\n",
      "ip: \"0.0.0.0\"\n",
      "port: 8080\n",
      "\n"
     ]
    }
   ],
   "source": [
    "ex.get_id('aa')"
   ]
  },
  {
   "cell_type": "code",
   "execution_count": null,
   "id": "premier-weekend",
   "metadata": {},
   "outputs": [],
   "source": []
  }
 ],
 "metadata": {
  "kernelspec": {
   "display_name": "Python 3",
   "language": "python",
   "name": "python3"
  },
  "language_info": {
   "codemirror_mode": {
    "name": "ipython",
    "version": 3
   },
   "file_extension": ".py",
   "mimetype": "text/x-python",
   "name": "python",
   "nbconvert_exporter": "python",
   "pygments_lexer": "ipython3",
   "version": "3.8.7"
  }
 },
 "nbformat": 4,
 "nbformat_minor": 5
}
